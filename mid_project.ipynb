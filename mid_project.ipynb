{
 "cells": [
  {
   "cell_type": "markdown",
   "id": "4550a966",
   "metadata": {},
   "source": [
    "# CNN model to classify the MNIST handwritten digits dataset"
   ]
  },
  {
   "cell_type": "code",
   "execution_count": 1,
   "id": "3cbb4ee1",
   "metadata": {},
   "outputs": [],
   "source": [
    "import tensorflow as tf\n",
    "from tensorflow import keras\n",
    "from tensorflow.keras import layers\n",
    "from tensorflow.keras.datasets import mnist\n",
    "\n",
    "import os\n",
    "import random\n",
    "import numpy as np\n",
    "import matplotlib.pyplot as plt"
   ]
  },
  {
   "cell_type": "markdown",
   "id": "5c0e20fb",
   "metadata": {},
   "source": [
    "### For loading the dataset"
   ]
  },
  {
   "cell_type": "code",
   "execution_count": 2,
   "id": "cf002105",
   "metadata": {},
   "outputs": [
    {
     "name": "stdout",
     "output_type": "stream",
     "text": [
      "Shape of x_train: (60000, 28, 28)\n",
      "Shape of y_train: (60000,)\n",
      "\n",
      "Shape of x_test: (10000, 28, 28)\n",
      "Shape of y_test: (10000,)\n"
     ]
    }
   ],
   "source": [
    "\n",
    "\n",
    "(x_train, y_train), (x_test, y_test) = mnist.load_data()\n",
    "print(f\"Shape of x_train: {x_train.shape}\")\n",
    "print(f\"Shape of y_train: {y_train.shape}\")\n",
    "print()\n",
    "print(f\"Shape of x_test: {x_test.shape}\")\n",
    "print(f\"Shape of y_test: {y_test.shape}\")"
   ]
  },
  {
   "cell_type": "markdown",
   "id": "aed22c35",
   "metadata": {},
   "source": [
    "### Without Data Normalization "
   ]
  },
  {
   "cell_type": "code",
   "execution_count": 3,
   "id": "88d04928",
   "metadata": {},
   "outputs": [],
   "source": [
    "x_train = x_train.reshape(-1, 28*28)\n",
    "x_test = x_test.reshape(-1, 28*28)"
   ]
  },
  {
   "cell_type": "markdown",
   "id": "96e58f7e",
   "metadata": {},
   "source": [
    "### Building Model"
   ]
  },
  {
   "cell_type": "code",
   "execution_count": 4,
   "id": "d01e74d3",
   "metadata": {},
   "outputs": [
    {
     "name": "stdout",
     "output_type": "stream",
     "text": [
      "Model: \"sequential\"\n",
      "_________________________________________________________________\n",
      "Layer (type)                 Output Shape              Param #   \n",
      "=================================================================\n",
      "dense (Dense)                (None, 256)               200960    \n",
      "_________________________________________________________________\n",
      "dense_1 (Dense)              (None, 128)               32896     \n",
      "_________________________________________________________________\n",
      "dense_2 (Dense)              (None, 10)                1290      \n",
      "=================================================================\n",
      "Total params: 235,146\n",
      "Trainable params: 235,146\n",
      "Non-trainable params: 0\n",
      "_________________________________________________________________\n"
     ]
    }
   ],
   "source": [
    "model = keras.Sequential([\n",
    "    keras.Input(shape=28*28),\n",
    "    layers.Dense(units=256, activation='relu'),\n",
    "    layers.Dense(units=128, activation='relu'),\n",
    "    layers.Dense(units=10, activation='softmax')\n",
    "])\n",
    "model.summary()"
   ]
  },
  {
   "cell_type": "markdown",
   "id": "63cf5f6b",
   "metadata": {},
   "source": [
    "### Using Different Optimizer"
   ]
  },
  {
   "cell_type": "code",
   "execution_count": 5,
   "id": "9a256656",
   "metadata": {},
   "outputs": [],
   "source": [
    "model.compile(\n",
    "    optimizer='adam', \n",
    "    loss='sparse_categorical_crossentropy', \n",
    "    metrics=['accuracy']\n",
    ")"
   ]
  },
  {
   "cell_type": "code",
   "execution_count": 8,
   "id": "4f243286",
   "metadata": {},
   "outputs": [
    {
     "name": "stdout",
     "output_type": "stream",
     "text": [
      "Epoch 1/5\n",
      "657/657 [==============================] - 8s 13ms/step - loss: 0.0808 - accuracy: 0.9775 - val_loss: 0.1999 - val_accuracy: 0.9631\n",
      "Epoch 2/5\n",
      "657/657 [==============================] - 8s 12ms/step - loss: 0.0776 - accuracy: 0.9786 - val_loss: 0.1912 - val_accuracy: 0.9624\n",
      "Epoch 3/5\n",
      "657/657 [==============================] - 8s 12ms/step - loss: 0.0680 - accuracy: 0.9804 - val_loss: 0.2150 - val_accuracy: 0.9616\n",
      "Epoch 4/5\n",
      "657/657 [==============================] - 8s 12ms/step - loss: 0.0704 - accuracy: 0.9810 - val_loss: 0.1957 - val_accuracy: 0.9613\n",
      "Epoch 5/5\n",
      "657/657 [==============================] - 8s 12ms/step - loss: 0.0649 - accuracy: 0.9822 - val_loss: 0.2087 - val_accuracy: 0.9615\n"
     ]
    }
   ],
   "source": [
    "h = model.fit(x=x_train, y=y_train, epochs=5, batch_size=64, validation_split=0.3)"
   ]
  },
  {
   "cell_type": "code",
   "execution_count": null,
   "id": "dc86b067",
   "metadata": {},
   "outputs": [],
   "source": []
  },
  {
   "cell_type": "code",
   "execution_count": 9,
   "id": "049b9931",
   "metadata": {},
   "outputs": [],
   "source": [
    "model.compile(\n",
    "    optimizer='SGD', \n",
    "    loss='sparse_categorical_crossentropy', \n",
    "    metrics=['accuracy']\n",
    ")"
   ]
  },
  {
   "cell_type": "code",
   "execution_count": 10,
   "id": "0987cfcd",
   "metadata": {},
   "outputs": [
    {
     "name": "stdout",
     "output_type": "stream",
     "text": [
      "Epoch 1/5\n",
      "657/657 [==============================] - 12s 14ms/step - loss: 0.5594 - accuracy: 0.9327 - val_loss: 0.3382 - val_accuracy: 0.9602\n",
      "Epoch 2/5\n",
      "657/657 [==============================] - 7s 11ms/step - loss: 0.0483 - accuracy: 0.9897 - val_loss: 0.2728 - val_accuracy: 0.9682\n",
      "Epoch 3/5\n",
      "657/657 [==============================] - 8s 12ms/step - loss: 0.0275 - accuracy: 0.9922 - val_loss: 0.7351 - val_accuracy: 0.9370\n",
      "Epoch 4/5\n",
      "657/657 [==============================] - 8s 12ms/step - loss: 0.0270 - accuracy: 0.9939 - val_loss: 0.3010 - val_accuracy: 0.9712\n",
      "Epoch 5/5\n",
      "657/657 [==============================] - 8s 12ms/step - loss: 0.0120 - accuracy: 0.9963 - val_loss: 0.2917 - val_accuracy: 0.9709\n"
     ]
    }
   ],
   "source": [
    "h2 = model.fit(x=x_train, y=y_train, epochs=5, batch_size=64, validation_split=0.3)"
   ]
  },
  {
   "cell_type": "code",
   "execution_count": null,
   "id": "e15fcb52",
   "metadata": {},
   "outputs": [],
   "source": []
  },
  {
   "cell_type": "code",
   "execution_count": 11,
   "id": "cf1722b0",
   "metadata": {},
   "outputs": [],
   "source": [
    "model.compile(\n",
    "    optimizer='RMSProp', \n",
    "    loss='sparse_categorical_crossentropy', \n",
    "    metrics=['accuracy']\n",
    ")"
   ]
  },
  {
   "cell_type": "code",
   "execution_count": 12,
   "id": "3b6394b2",
   "metadata": {},
   "outputs": [
    {
     "name": "stdout",
     "output_type": "stream",
     "text": [
      "Epoch 1/5\n",
      "657/657 [==============================] - 15s 18ms/step - loss: 0.0521 - accuracy: 0.9907 - val_loss: 0.4547 - val_accuracy: 0.9660\n",
      "Epoch 2/5\n",
      "657/657 [==============================] - 12s 18ms/step - loss: 0.0504 - accuracy: 0.9903 - val_loss: 0.4250 - val_accuracy: 0.9687\n",
      "Epoch 3/5\n",
      "657/657 [==============================] - 10s 15ms/step - loss: 0.0504 - accuracy: 0.9920 - val_loss: 0.4778 - val_accuracy: 0.9678curacy: 0.\n",
      "Epoch 4/5\n",
      "657/657 [==============================] - 10s 15ms/step - loss: 0.0513 - accuracy: 0.9909 - val_loss: 0.4647 - val_accuracy: 0.9664\n",
      "Epoch 5/5\n",
      "657/657 [==============================] - 10s 15ms/step - loss: 0.0488 - accuracy: 0.9918 - val_loss: 0.5147 - val_accuracy: 0.9639: 1s - loss: 0.0473 - accuracy - ETA: 1s - loss: 0.0 - ETA\n"
     ]
    }
   ],
   "source": [
    "h3 = model.fit(x=x_train, y=y_train, epochs=5, batch_size=64, validation_split=0.3)"
   ]
  },
  {
   "cell_type": "markdown",
   "id": "f8a7c46d",
   "metadata": {},
   "source": [
    "### With Data Normalization "
   ]
  },
  {
   "cell_type": "code",
   "execution_count": 13,
   "id": "da3ca53e",
   "metadata": {},
   "outputs": [],
   "source": [
    "x_train = x_train.reshape(-1, 28*28).astype(\"float32\") / 255.0\n",
    "x_test = x_test.reshape(-1, 28*28).astype(\"float32\") / 255.0"
   ]
  },
  {
   "cell_type": "markdown",
   "id": "c59ef732",
   "metadata": {},
   "source": [
    "### Building Model"
   ]
  },
  {
   "cell_type": "code",
   "execution_count": 14,
   "id": "e74ebc40",
   "metadata": {},
   "outputs": [
    {
     "name": "stdout",
     "output_type": "stream",
     "text": [
      "Model: \"sequential_1\"\n",
      "_________________________________________________________________\n",
      "Layer (type)                 Output Shape              Param #   \n",
      "=================================================================\n",
      "dense_3 (Dense)              (None, 256)               200960    \n",
      "_________________________________________________________________\n",
      "dense_4 (Dense)              (None, 128)               32896     \n",
      "_________________________________________________________________\n",
      "dense_5 (Dense)              (None, 10)                1290      \n",
      "=================================================================\n",
      "Total params: 235,146\n",
      "Trainable params: 235,146\n",
      "Non-trainable params: 0\n",
      "_________________________________________________________________\n"
     ]
    }
   ],
   "source": [
    "model = keras.Sequential([\n",
    "    keras.Input(shape=28*28),\n",
    "    layers.Dense(units=256, activation='relu'),\n",
    "    layers.Dense(units=128, activation='relu'),\n",
    "    layers.Dense(units=10, activation='softmax')\n",
    "])\n",
    "model.summary()"
   ]
  },
  {
   "cell_type": "markdown",
   "id": "13d37697",
   "metadata": {},
   "source": [
    "### Using Different Optimizer"
   ]
  },
  {
   "cell_type": "code",
   "execution_count": 15,
   "id": "8768207e",
   "metadata": {},
   "outputs": [],
   "source": [
    "model.compile(\n",
    "    optimizer='adam', \n",
    "    loss='sparse_categorical_crossentropy', \n",
    "    metrics=['accuracy']\n",
    ")"
   ]
  },
  {
   "cell_type": "code",
   "execution_count": 16,
   "id": "0e9b11e4",
   "metadata": {},
   "outputs": [
    {
     "name": "stdout",
     "output_type": "stream",
     "text": [
      "Epoch 1/5\n",
      "657/657 [==============================] - 11s 14ms/step - loss: 0.4730 - accuracy: 0.8635 - val_loss: 0.1487 - val_accuracy: 0.9541\n",
      "Epoch 2/5\n",
      "657/657 [==============================] - 8s 13ms/step - loss: 0.1111 - accuracy: 0.9671 - val_loss: 0.1299 - val_accuracy: 0.9609\n",
      "Epoch 3/5\n",
      "657/657 [==============================] - 9s 13ms/step - loss: 0.0624 - accuracy: 0.9803 - val_loss: 0.1141 - val_accuracy: 0.9691\n",
      "Epoch 4/5\n",
      "657/657 [==============================] - 9s 13ms/step - loss: 0.0440 - accuracy: 0.9862 - val_loss: 0.0969 - val_accuracy: 0.9709\n",
      "Epoch 5/5\n",
      "657/657 [==============================] - 9s 13ms/step - loss: 0.0336 - accuracy: 0.9896 - val_loss: 0.1053 - val_accuracy: 0.9728\n"
     ]
    }
   ],
   "source": [
    "hn = model.fit(x=x_train, y=y_train, epochs=5, batch_size=64, validation_split=0.3)"
   ]
  },
  {
   "cell_type": "code",
   "execution_count": null,
   "id": "5c3f43f2",
   "metadata": {},
   "outputs": [],
   "source": []
  },
  {
   "cell_type": "code",
   "execution_count": 17,
   "id": "8fcae8b1",
   "metadata": {},
   "outputs": [],
   "source": [
    "model.compile(\n",
    "    optimizer='SGD', \n",
    "    loss='sparse_categorical_crossentropy', \n",
    "    metrics=['accuracy']\n",
    ")"
   ]
  },
  {
   "cell_type": "code",
   "execution_count": 18,
   "id": "2bb9ed58",
   "metadata": {},
   "outputs": [
    {
     "name": "stdout",
     "output_type": "stream",
     "text": [
      "Epoch 1/5\n",
      "657/657 [==============================] - 10s 13ms/step - loss: 0.0191 - accuracy: 0.9943 - val_loss: 0.0853 - val_accuracy: 0.9772\n",
      "Epoch 2/5\n",
      "657/657 [==============================] - 8s 12ms/step - loss: 0.0128 - accuracy: 0.9970 - val_loss: 0.0839 - val_accuracy: 0.9779\n",
      "Epoch 3/5\n",
      "657/657 [==============================] - 8s 12ms/step - loss: 0.0112 - accuracy: 0.9977 - val_loss: 0.0835 - val_accuracy: 0.9778\n",
      "Epoch 4/5\n",
      "657/657 [==============================] - 8s 12ms/step - loss: 0.0102 - accuracy: 0.9977 - val_loss: 0.0832 - val_accuracy: 0.9786\n",
      "Epoch 5/5\n",
      "657/657 [==============================] - 8s 12ms/step - loss: 0.0097 - accuracy: 0.9980 - val_loss: 0.0828 - val_accuracy: 0.9787\n"
     ]
    }
   ],
   "source": [
    "hn2 = model.fit(x=x_train, y=y_train, epochs=5, batch_size=64, validation_split=0.3)"
   ]
  },
  {
   "cell_type": "code",
   "execution_count": null,
   "id": "b5b35362",
   "metadata": {},
   "outputs": [],
   "source": []
  },
  {
   "cell_type": "code",
   "execution_count": 19,
   "id": "976549f2",
   "metadata": {},
   "outputs": [],
   "source": [
    "model.compile(\n",
    "    optimizer='RMSProp', \n",
    "    loss='sparse_categorical_crossentropy', \n",
    "    metrics=['accuracy']\n",
    ")"
   ]
  },
  {
   "cell_type": "code",
   "execution_count": 20,
   "id": "1d749b29",
   "metadata": {},
   "outputs": [
    {
     "name": "stdout",
     "output_type": "stream",
     "text": [
      "Epoch 1/5\n",
      "657/657 [==============================] - 14s 17ms/step - loss: 0.0255 - accuracy: 0.9918 - val_loss: 0.1141 - val_accuracy: 0.9760\n",
      "Epoch 2/5\n",
      "657/657 [==============================] - 11s 17ms/step - loss: 0.0185 - accuracy: 0.9940 - val_loss: 0.1169 - val_accuracy: 0.9749\n",
      "Epoch 3/5\n",
      "657/657 [==============================] - 11s 16ms/step - loss: 0.0135 - accuracy: 0.9962 - val_loss: 0.1267 - val_accuracy: 0.9753\n",
      "Epoch 4/5\n",
      "657/657 [==============================] - 10s 15ms/step - loss: 0.0099 - accuracy: 0.9967 - val_loss: 0.1414 - val_accuracy: 0.9732\n",
      "Epoch 5/5\n",
      "657/657 [==============================] - 12s 18ms/step - loss: 0.0093 - accuracy: 0.9966 - val_loss: 0.1733 - val_accuracy: 0.9704\n"
     ]
    }
   ],
   "source": [
    "hn2 = model.fit(x=x_train, y=y_train, epochs=5, batch_size=64, validation_split=0.3)"
   ]
  },
  {
   "cell_type": "code",
   "execution_count": null,
   "id": "a0008edd",
   "metadata": {},
   "outputs": [],
   "source": []
  }
 ],
 "metadata": {
  "kernelspec": {
   "display_name": "demo-tf-py3.8",
   "language": "python",
   "name": "demo"
  },
  "language_info": {
   "codemirror_mode": {
    "name": "ipython",
    "version": 3
   },
   "file_extension": ".py",
   "mimetype": "text/x-python",
   "name": "python",
   "nbconvert_exporter": "python",
   "pygments_lexer": "ipython3",
   "version": "3.8.10"
  }
 },
 "nbformat": 4,
 "nbformat_minor": 5
}
